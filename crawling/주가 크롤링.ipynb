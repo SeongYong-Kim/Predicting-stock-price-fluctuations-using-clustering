{
 "cells": [
  {
   "cell_type": "code",
   "execution_count": null,
   "metadata": {
    "ExecuteTime": {
     "end_time": "2021-03-28T12:27:04.065959Z",
     "start_time": "2021-03-28T12:26:58.015776Z"
    }
   },
   "outputs": [],
   "source": [
    "import pandas as pd\n",
    "import datetime\n",
    "from selenium import webdriver as wd\n",
    "from tqdm.notebook import tqdm"
   ]
  },
  {
   "cell_type": "code",
   "execution_count": 2,
   "metadata": {
    "ExecuteTime": {
     "end_time": "2021-03-29T00:29:23.215627Z",
     "start_time": "2021-03-28T12:27:04.080946Z"
    }
   },
   "outputs": [
    {
     "data": {
      "application/vnd.jupyter.widget-view+json": {
       "model_id": "1ce4e43646824a16b93f64eac430b61c",
       "version_major": 2,
       "version_minor": 0
      },
      "text/plain": [
       "HBox(children=(HTML(value=''), FloatProgress(value=0.0, max=5.0), HTML(value='')))"
      ]
     },
     "metadata": {},
     "output_type": "display_data"
    },
    {
     "name": "stdout",
     "output_type": "stream",
     "text": [
      "\n"
     ]
    },
    {
     "data": {
      "application/vnd.jupyter.widget-view+json": {
       "model_id": "5fbab3ffccd14373a7949244e55ed9fd",
       "version_major": 2,
       "version_minor": 0
      },
      "text/plain": [
       "HBox(children=(HTML(value=''), FloatProgress(value=0.0, max=5.0), HTML(value='')))"
      ]
     },
     "metadata": {},
     "output_type": "display_data"
    },
    {
     "name": "stdout",
     "output_type": "stream",
     "text": [
      "\n"
     ]
    },
    {
     "data": {
      "application/vnd.jupyter.widget-view+json": {
       "model_id": "4bdf2ba3012d4789a0e4886de82fd097",
       "version_major": 2,
       "version_minor": 0
      },
      "text/plain": [
       "HBox(children=(HTML(value=''), FloatProgress(value=0.0, max=5.0), HTML(value='')))"
      ]
     },
     "metadata": {},
     "output_type": "display_data"
    },
    {
     "name": "stdout",
     "output_type": "stream",
     "text": [
      "\n"
     ]
    },
    {
     "data": {
      "application/vnd.jupyter.widget-view+json": {
       "model_id": "c18f36ef90db4158b97ef0e65013bfff",
       "version_major": 2,
       "version_minor": 0
      },
      "text/plain": [
       "HBox(children=(HTML(value=''), FloatProgress(value=0.0, max=5.0), HTML(value='')))"
      ]
     },
     "metadata": {},
     "output_type": "display_data"
    },
    {
     "name": "stdout",
     "output_type": "stream",
     "text": [
      "\n"
     ]
    },
    {
     "data": {
      "application/vnd.jupyter.widget-view+json": {
       "model_id": "e7ac4e284d404d1996eb8fb1fc9fcf18",
       "version_major": 2,
       "version_minor": 0
      },
      "text/plain": [
       "HBox(children=(HTML(value=''), FloatProgress(value=0.0, max=5.0), HTML(value='')))"
      ]
     },
     "metadata": {},
     "output_type": "display_data"
    },
    {
     "name": "stdout",
     "output_type": "stream",
     "text": [
      "\n"
     ]
    },
    {
     "data": {
      "application/vnd.jupyter.widget-view+json": {
       "model_id": "dfbe819df00a4a70830eb3b7e98b7b30",
       "version_major": 2,
       "version_minor": 0
      },
      "text/plain": [
       "HBox(children=(HTML(value=''), FloatProgress(value=0.0, max=5.0), HTML(value='')))"
      ]
     },
     "metadata": {},
     "output_type": "display_data"
    },
    {
     "name": "stdout",
     "output_type": "stream",
     "text": [
      "\n"
     ]
    },
    {
     "data": {
      "application/vnd.jupyter.widget-view+json": {
       "model_id": "90944dfbf3df403f9e7f57b153df2f26",
       "version_major": 2,
       "version_minor": 0
      },
      "text/plain": [
       "HBox(children=(HTML(value=''), FloatProgress(value=0.0, max=5.0), HTML(value='')))"
      ]
     },
     "metadata": {},
     "output_type": "display_data"
    },
    {
     "name": "stdout",
     "output_type": "stream",
     "text": [
      "\n"
     ]
    },
    {
     "data": {
      "application/vnd.jupyter.widget-view+json": {
       "model_id": "55e664eb256b448995c19817da8bf1aa",
       "version_major": 2,
       "version_minor": 0
      },
      "text/plain": [
       "HBox(children=(HTML(value=''), FloatProgress(value=0.0, max=5.0), HTML(value='')))"
      ]
     },
     "metadata": {},
     "output_type": "display_data"
    },
    {
     "name": "stdout",
     "output_type": "stream",
     "text": [
      "\n"
     ]
    },
    {
     "ename": "IndexError",
     "evalue": "list index out of range",
     "output_type": "error",
     "traceback": [
      "\u001b[1;31m---------------------------------------------------------------------------\u001b[0m",
      "\u001b[1;31mIndexError\u001b[0m                                Traceback (most recent call last)",
      "\u001b[1;32m<ipython-input-2-62ad4c716f03>\u001b[0m in \u001b[0;36m<module>\u001b[1;34m\u001b[0m\n\u001b[0;32m    274\u001b[0m             \u001b[1;32mfor\u001b[0m \u001b[0mi\u001b[0m \u001b[1;32min\u001b[0m \u001b[0mreal_container_num\u001b[0m\u001b[1;33m:\u001b[0m\u001b[1;33m\u001b[0m\u001b[1;33m\u001b[0m\u001b[0m\n\u001b[0;32m    275\u001b[0m                 \u001b[0mbox\u001b[0m \u001b[1;33m=\u001b[0m \u001b[1;33m[\u001b[0m\u001b[1;33m]\u001b[0m\u001b[1;33m\u001b[0m\u001b[1;33m\u001b[0m\u001b[0m\n\u001b[1;32m--> 276\u001b[1;33m                 \u001b[0mdata\u001b[0m \u001b[1;33m=\u001b[0m \u001b[0mcontainer\u001b[0m\u001b[1;33m[\u001b[0m\u001b[0mi\u001b[0m\u001b[1;33m]\u001b[0m\u001b[1;33m.\u001b[0m\u001b[0mfind_elements_by_css_selector\u001b[0m\u001b[1;33m(\u001b[0m\u001b[1;34m'td'\u001b[0m\u001b[1;33m)\u001b[0m\u001b[1;33m\u001b[0m\u001b[1;33m\u001b[0m\u001b[0m\n\u001b[0m\u001b[0;32m    277\u001b[0m                 \u001b[0mtime_value\u001b[0m \u001b[1;33m=\u001b[0m \u001b[0mdata\u001b[0m\u001b[1;33m[\u001b[0m\u001b[1;36m0\u001b[0m\u001b[1;33m]\u001b[0m\u001b[1;33m.\u001b[0m\u001b[0mtext\u001b[0m\u001b[1;33m\u001b[0m\u001b[1;33m\u001b[0m\u001b[0m\n\u001b[0;32m    278\u001b[0m                 \u001b[0mprice_value\u001b[0m \u001b[1;33m=\u001b[0m \u001b[0mdata\u001b[0m\u001b[1;33m[\u001b[0m\u001b[1;36m1\u001b[0m\u001b[1;33m]\u001b[0m\u001b[1;33m.\u001b[0m\u001b[0mtext\u001b[0m\u001b[1;33m\u001b[0m\u001b[1;33m\u001b[0m\u001b[0m\n",
      "\u001b[1;31mIndexError\u001b[0m: list index out of range"
     ]
    }
   ],
   "source": [
    "# 종목 정하기\n",
    "stock_codes = {\n",
    "# '삼성전자' : '005930',\n",
    "# 'SK하이닉스' : '000660',\n",
    "# 'LG전자' : '066570',\n",
    "# '신세계 I&C' : '035510',\n",
    "# '네이버' : '035420',\n",
    "# '카카오' : '035720',\n",
    "\n",
    "# '대한항공' : '003490',\n",
    "# '아시아나항공' : '020560',\n",
    "# '제주항공' : '089590',\n",
    "'진에어' : '272450',\n",
    "'티웨이항공' : '091810',\n",
    "'에어부산' : '298690',\n",
    "\n",
    "'현대건설' : '000720',\n",
    "'삼성물산' : '028260',\n",
    "'대우건설' : '047040',\n",
    "'대림산업' : '000210',\n",
    "'현대미포조선' : '010620',\n",
    "'한국조선해양' : '009540',\n",
    "'삼성중공업' : '010140',\n",
    "\n",
    "'한익스프레스' : '014130',\n",
    "'동방' : '004140',\n",
    "'태림포장' : '011280',\n",
    "'대영포장' : '014160',\n",
    "'KCTC' : '009070',\n",
    "'삼보판지' : '023600',\n",
    "\n",
    "'한국앤컴퍼니' : '000240',\n",
    "'삼양홀딩스' : '000070',\n",
    "'AK홀딩스' : '006840',\n",
    "'키움증권' : '039490',\n",
    "'효성' : '004800', \n",
    "'KTB투자증권' : '030210',\n",
    "    \n",
    "'한국항공우주': '047810',\n",
    "'대상': '001680',\n",
    "'세하': '027970',\n",
    "'KH 필룩스': '033180',\n",
    "'TIGER 퓨처모빌리티액티브': '387280',\n",
    "'덕양산업': '024900',\n",
    "'대덕전자1우': '35320K',\n",
    "'수산중공업': '017550',\n",
    "'태경산업': '015890',\n",
    "'인스코비': '006490',\n",
    "'에이블씨엔씨': '078520',\n",
    "'인디에프': '014990',\n",
    "'TIGER 화장품': '228790',\n",
    "'이연제약': '102460',\n",
    "'S-Oil': '010950',\n",
    "'이수페타시스': '007660',\n",
    "'유진투자증권': '001200',\n",
    "'보락': '002760',\n",
    "'한화시스템': '272210',\n",
    "'KEC': '092220',\n",
    "'KG동부제철': '016380',\n",
    "'대원전선': '006340',\n",
    "'화승인더': '006060',\n",
    "'맥쿼리인프라': '088980',\n",
    "'한솔홀딩스': '004150',\n",
    "'KBSTAR 단기국공채액티브': '272560',\n",
    "'에이플러스에셋': '244920',\n",
    "'문배철강': '008420',\n",
    "'삼성생명': '032830',\n",
    "'프레스티지바이오파마': '950210',\n",
    "'제이에스코퍼레이션': '194370',\n",
    "'대동': '000490',\n",
    "'아남전자': '008700',\n",
    "'이구산업': '025820',\n",
    "'방림': '003610',\n",
    "'DGB금융지주': '139130',\n",
    "'성신양회': '004980',\n",
    "'세아베스틸': '001430',\n",
    "'제일기획': '030000',\n",
    "'후성': '093370',\n",
    "'알루코': '001780',\n",
    "'참엔지니어링': '009310',\n",
    "'SK': '034730',\n",
    "'부광약품': '003000',\n",
    "'국동': '005320',\n",
    "'두산밥캣': '241560',\n",
    "'성창기업지주': '000180',\n",
    "'대한제당': '001790',\n",
    "'녹십자': '006280',\n",
    "'삼호개발': '010960',\n",
    "'대우조선해양': '042660',\n",
    "'풀무원': '017810',\n",
    "'삼성증권': '016360',\n",
    "'티웨이홀딩스': '004870',\n",
    "'한국콜마': '161890',\n",
    "'포스코케미칼': '003670',\n",
    "'파미셀': '005690',\n",
    "'풍산': '103140',\n",
    "'웅진': '016880',\n",
    "'베트남개발1': '096300',\n",
    "'우리들휴브레인': '118000',\n",
    "'한국조선해양': '009540',\n",
    "'영진약품': '003520',\n",
    "'인지컨트롤스': '023800',\n",
    "'남성': '004270',\n",
    "'대한제당우': '001795',\n",
    "'현대모비스': '012330',\n",
    "'하나투어': '039130',\n",
    "'DB하이텍': '000990',\n",
    "'광명전기': '017040',\n",
    "'LG우': '003555',\n",
    "'제주항공': '089590',\n",
    "'셀트리온': '068270',\n",
    "'인바이오젠': '101140',\n",
    "'백산': '035150',\n",
    "'삼성전기': '009150',\n",
    "'LIG넥스원': '079550',\n",
    "'동일제강': '002690',\n",
    "'대덕전자': '353200',\n",
    "'한국타이어앤테크놀로지': '161390',\n",
    "'동양생명': '082640',\n",
    "'미래산업': '025560',\n",
    "'남해화학': '025860',\n",
    "'현대중공업지주': '267250',\n",
    "'세원이앤씨': '091090',\n",
    "'F&F홀딩스': '007700',\n",
    "'DB손해보험': '005830',\n",
    "'TIGER 미국테크TOP10 INDXX': '381170',\n",
    "'팜젠사이언스': '004720',\n",
    "'용평리조트': '070960',\n",
    "'영풍제지': '006740',\n",
    "'이수화학': '005950',\n",
    "'TIGER 미국필라델피아반도체나스닥': '381180',\n",
    "'대웅': '003090',\n",
    "'카프로': '006380',\n",
    "'삼성물산': '028260',\n",
    "'서원': '021050',\n",
    "'SK바이오사이언스': '302440',\n",
    "'송원산업': '004430',\n",
    "'SK텔레콤': '017670',\n",
    "'금호석유': '011780',\n",
    "'JB금융지주': '175330',\n",
    "'갤럭시아에스엠': '011420',\n",
    "'대한제강': '084010',\n",
    "'SK바이오팜': '326030',\n",
    "'대양금속': '009190',\n",
    "'한세예스24홀딩스': '016450',\n",
    "'YG PLUS': '037270',\n",
    "'메타랩스': '090370',\n",
    "'화승엔터프라이즈': '241590',\n",
    "'한국화장품': '123690',\n",
    "'한국특강': '007280',\n",
    "'현대퓨처넷': '126560',\n",
    "'한진중공업': '097230',\n",
    "'대성산업': '128820',\n",
    "'메리츠화재': '000060',\n",
    "'인터지스': '129260',\n",
    "'한국앤컴퍼니': '000240',\n",
    "'BGF': '027410',\n",
    "'한라': '014790',\n",
    "'명신산업': '009900',\n",
    "'에스엘': '005850',\n",
    "'포스코인터내셔널': '047050',\n",
    "'KINDEX 200': '105190',\n",
    "'서연이화': '200880',\n",
    "'한창제지': '009460',\n",
    "'애경유화': '161000',\n",
    "'이지스밸류리츠': '334890',\n",
    "'아모레G': '002790',\n",
    "'TIGER 중국소비테마': '150460',\n",
    "'삼성출판사': '068290',\n",
    "'하이스틸': '071090',\n",
    "'유나이티드제약': '033270',\n",
    "'드림텍': '192650',\n",
    "'자이에스앤디': '317400',\n",
    "'삼성SDI': '006400',\n",
    "'천일고속': '000650',\n",
    "'이월드': '084680',\n",
    "'한국카본': '017960',\n",
    "'미래에셋증권2우B': '00680K',\n",
    "'메리츠금융지주': '138040',\n",
    "'유성기업': '002920',\n",
    "'콤텍시스템': '031820',\n",
    "'삼성화재': '000810',\n",
    "'만도': '204320',\n",
    "'두산': '000150',\n",
    "'KR모터스': '000040',\n",
    "'국보': '001140',\n",
    "'비비안': '002070',\n",
    "'유한양행': '000100',\n",
    "'한솔제지': '213500',\n",
    "'깨끗한나라': '004540',\n",
    "'한올바이오파마': '009420',\n",
    "'아모레퍼시픽': '090430',\n",
    "'한국자산신탁': '123890',\n",
    "'TIGER 200 중공업': '139230',\n",
    "'SK렌터카': '068400',\n",
    "'금강공업': '014280',\n",
    "'코람코에너지리츠': '357120',\n",
    "'LG이노텍': '011070',\n",
    "'한국콜마홀딩스': '024720',\n",
    "'영흥': '012160',\n",
    "'유수홀딩스': '000700',\n",
    "'CJ': '001040',\n",
    "'스카이라이프': '053210',\n",
    "'현대위아': '011210',\n",
    "'현대건설기계': '267270',\n",
    "'TIGER TOP10': '292150',\n",
    "'현대일렉트릭': '267260',\n",
    "'SK아이이테크놀로지': '361610',\n",
    "'TIGER 차이나CSI300': '192090',\n",
    "'서연': '007860',\n",
    "'TIGER 2차전지테마': '305540',\n",
    "'한국금융지주': '071050',\n",
    "'엔케이': '085310',\n",
    "'LG상사': '001120',\n",
    "'유니켐': '011330',\n",
    "'두올': '016740',\n",
    "'SG글로벌': '001380',\n",
    "'HANARO 200': '293180',\n",
    "'한솔테크닉스': '004710',\n",
    "'극동유화': '014530',\n",
    "'CJ씨푸드': '011150',\n",
    "'이건산업': '008250',\n",
    "'KSS해운': '044450',\n",
    "'동아지질': '028100',\n",
    "'일진홀딩스': '015860',\n",
    "'에이리츠': '140910',\n",
    "'한국프랜지': '010100',\n",
    "'한화투자증권우': '003535',\n",
    "'롯데케미칼': '011170',\n",
    "'넷마블': '251270',\n",
    "'롯데쇼핑': '023530',\n",
    "'제이준코스메틱': '025620',\n",
    "'솔루스첨단소재': '336370',\n",
    "'고려산업': '002140',\n",
    "'평화산업': '090080',\n",
    "'KB FnGuide 언택트 ETN': '580011',\n",
    "'엘브이엠씨홀딩스': '900140',\n",
    "'코리안리': '003690'\n",
    "}\n",
    "\n",
    "stock_codes = {v:k for k,v in stock_codes.items()}\n",
    "\n",
    "for stock_code in stock_codes.keys():\n",
    "    # 날짜 정하기\n",
    "    start_date = datetime.datetime(2021,7,19) # 포함 ################\n",
    "    end_date = datetime.datetime(2021,7,23) # 포함 ################\n",
    "    ymd_list = [x.strftime('%Y%m%d') for x in pd.date_range(start_date, end_date, freq='B')]\n",
    "\n",
    "    real_container_num = [2,3,4,5,6,10,11,12,13,14]\n",
    "    big_box = [['체결날짜','체결시각','체결가','변동량']]\n",
    "\n",
    "    for ymd in tqdm(ymd_list):\n",
    "        thistime = ymd + '180000'\n",
    "        page = 34\n",
    "\n",
    "        while page < 40:\n",
    "            page += 1\n",
    "            url = 'https://finance.naver.com/item/sise_time.nhn?code={}&thistime={}&page={}'.format(stock_code, thistime, page)\n",
    "\n",
    "            data = pd.DataFrame(big_box[1:], columns=big_box[0])\n",
    "\n",
    "            data.to_csv(stock_codes[stock_code]+'_0719_0723.csv', index=False, encoding='euc-kr') ################\n",
    "\n",
    "            driver = wd.Chrome(r'C:\\Users\\tjddy\\ipynb_files\\ipynb_files\\chromedriver\\chromedriver.exe')\n",
    "            driver.get(url)\n",
    "\n",
    "            container = driver.find_elements_by_css_selector('tr')\n",
    "\n",
    "            if page==1 and container[2].find_elements_by_css_selector('td')[0].text == ' ':\n",
    "                driver.implicitly_wait(0.1)\n",
    "                driver.close()\n",
    "                break\n",
    "\n",
    "            for i in real_container_num:\n",
    "                box = []\n",
    "                data = container[i].find_elements_by_css_selector('td')\n",
    "                time_value = data[0].text\n",
    "                price_value = data[1].text\n",
    "                amount_value = data[6].text\n",
    "\n",
    "                if time_value == ' ':\n",
    "                    continue\n",
    "                else:\n",
    "                    box.append(ymd)\n",
    "                    box.append(time_value)\n",
    "                    box.append(price_value)\n",
    "                    box.append(amount_value)\n",
    "\n",
    "                big_box.append(box)\n",
    "\n",
    "            driver.implicitly_wait(0.1)\n",
    "            driver.close()\n",
    "            \n",
    "driver.quit()"
   ]
  },
  {
   "cell_type": "code",
   "execution_count": null,
   "metadata": {},
   "outputs": [],
   "source": [
    "driver.quit()"
   ]
  },
  {
   "cell_type": "code",
   "execution_count": null,
   "metadata": {},
   "outputs": [],
   "source": []
  }
 ],
 "metadata": {
  "hide_input": false,
  "kernelspec": {
   "display_name": "Python 3",
   "language": "python",
   "name": "python3"
  },
  "language_info": {
   "codemirror_mode": {
    "name": "ipython",
    "version": 3
   },
   "file_extension": ".py",
   "mimetype": "text/x-python",
   "name": "python",
   "nbconvert_exporter": "python",
   "pygments_lexer": "ipython3",
   "version": "3.8.5"
  },
  "toc": {
   "base_numbering": 1,
   "nav_menu": {},
   "number_sections": true,
   "sideBar": true,
   "skip_h1_title": false,
   "title_cell": "Table of Contents",
   "title_sidebar": "Contents",
   "toc_cell": false,
   "toc_position": {},
   "toc_section_display": true,
   "toc_window_display": false
  },
  "varInspector": {
   "cols": {
    "lenName": 16,
    "lenType": 16,
    "lenVar": 40
   },
   "kernels_config": {
    "python": {
     "delete_cmd_postfix": "",
     "delete_cmd_prefix": "del ",
     "library": "var_list.py",
     "varRefreshCmd": "print(var_dic_list())"
    },
    "r": {
     "delete_cmd_postfix": ") ",
     "delete_cmd_prefix": "rm(",
     "library": "var_list.r",
     "varRefreshCmd": "cat(var_dic_list()) "
    }
   },
   "types_to_exclude": [
    "module",
    "function",
    "builtin_function_or_method",
    "instance",
    "_Feature"
   ],
   "window_display": false
  }
 },
 "nbformat": 4,
 "nbformat_minor": 4
}
