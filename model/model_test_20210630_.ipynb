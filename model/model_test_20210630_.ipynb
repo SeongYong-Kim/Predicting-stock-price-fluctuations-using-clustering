{
 "cells": [
  {
   "cell_type": "markdown",
   "metadata": {},
   "source": [
    "## 라이브러리 및 데이터 로드"
   ]
  },
  {
   "cell_type": "code",
   "execution_count": 7,
   "metadata": {},
   "outputs": [],
   "source": [
    "import pandas as pd\n",
    "import numpy as np\n",
    "\n",
    "import matplotlib.pyplot as plt\n",
    "import matplotlib.cm as cm\n",
    "%matplotlib inline\n",
    "\n",
    "import warnings\n",
    "warnings.filterwarnings('ignore')\n",
    "import joblib"
   ]
  },
  {
   "cell_type": "code",
   "execution_count": 2,
   "metadata": {},
   "outputs": [],
   "source": [
    "# 스케일링 데이터\n",
    "st_df_test = pd.read_csv(r'st_df_test.csv', index_col = 0)\n",
    "\n",
    "# 원본 데이터\n",
    "st_df_test_orginal = pd.read_csv(r'original_df_test.csv', index_col = 0)\n",
    "st_df_test_orginal=st_df_test_orginal.loc[st_df_test_orginal.index.isin(st_df_test.index)]"
   ]
  },
  {
   "cell_type": "markdown",
   "metadata": {},
   "source": [
    "## 클러스터 모델 GMM"
   ]
  },
  {
   "cell_type": "code",
   "execution_count": 5,
   "metadata": {},
   "outputs": [],
   "source": [
    "# 학습 모델 불러오기\n",
    "GMM_from_joblib = joblib.load('GMM_model.pkl') \n",
    "result_GMM=GMM_from_joblib.predict(st_df_test.iloc[:,:31])\n",
    "\n",
    "#result_GMM=GMM_model.predict(st_df_test.iloc[:,:31])"
   ]
  },
  {
   "cell_type": "markdown",
   "metadata": {},
   "source": [
    "## 클러스터 모델 CNN"
   ]
  },
  {
   "cell_type": "code",
   "execution_count": 11,
   "metadata": {},
   "outputs": [
    {
     "ename": "ImportError",
     "evalue": "cannot import name 'load_weight' from 'keras.models' (C:\\acaconda\\lib\\site-packages\\keras\\models.py)",
     "output_type": "error",
     "traceback": [
      "\u001b[1;31m---------------------------------------------------------------------------\u001b[0m",
      "\u001b[1;31mImportError\u001b[0m                               Traceback (most recent call last)",
      "\u001b[1;32m<ipython-input-11-75598f3f432c>\u001b[0m in \u001b[0;36m<module>\u001b[1;34m\u001b[0m\n\u001b[0;32m      1\u001b[0m \u001b[1;31m# 학습모델 불러오기\u001b[0m\u001b[1;33m\u001b[0m\u001b[1;33m\u001b[0m\u001b[1;33m\u001b[0m\u001b[0m\n\u001b[0;32m      2\u001b[0m \u001b[1;33m\u001b[0m\u001b[0m\n\u001b[1;32m----> 3\u001b[1;33m \u001b[1;32mfrom\u001b[0m \u001b[0mkeras\u001b[0m\u001b[1;33m.\u001b[0m\u001b[0mmodels\u001b[0m \u001b[1;32mimport\u001b[0m \u001b[0mload_weight\u001b[0m\u001b[1;33m\u001b[0m\u001b[1;33m\u001b[0m\u001b[0m\n\u001b[0m\u001b[0;32m      4\u001b[0m \u001b[0mCNN_model\u001b[0m \u001b[1;33m=\u001b[0m \u001b[0mload_weights\u001b[0m\u001b[1;33m(\u001b[0m\u001b[1;34m'CNN_model.h5'\u001b[0m\u001b[1;33m)\u001b[0m\u001b[1;33m\u001b[0m\u001b[1;33m\u001b[0m\u001b[0m\n",
      "\u001b[1;31mImportError\u001b[0m: cannot import name 'load_weight' from 'keras.models' (C:\\acaconda\\lib\\site-packages\\keras\\models.py)"
     ]
    }
   ],
   "source": [
    "# 학습모델 불러오기\n",
    "\n",
    "from keras.models import load_weight\n",
    "CNN_model = load_weights('CNN_model.h5')"
   ]
  },
  {
   "cell_type": "code",
   "execution_count": null,
   "metadata": {},
   "outputs": [],
   "source": [
    "\n",
    "test = st_df_test.iloc[:,:31]\n",
    "test=np.array(test).reshape(len(test),1,31,1)\n",
    "predicted_clst=CNN_model.predict(test)\n",
    "\n",
    "predicted_clst_df=pd.DataFrame(predicted_clst)\n",
    "result_CNN = predicted_clst_df.idxmax(axis=1)"
   ]
  },
  {
   "cell_type": "markdown",
   "metadata": {},
   "source": [
    "## 가중치 모델 35분 예측 "
   ]
  },
  {
   "cell_type": "code",
   "execution_count": null,
   "metadata": {},
   "outputs": [],
   "source": [
    "# distance 적용 클러스터별 35분 예측값\n",
    "import math\n",
    "def predict_w_distance(data, predict_data, num):\n",
    "    df = data[data['clst'] == num].reset_index(drop = True)\n",
    "\n",
    "    columns = df.columns\n",
    "    data_35 = df[['09:35']]\n",
    "    \n",
    "    df = df[columns[:31]]\n",
    "    data_size = len(df)\n",
    "\n",
    "    distances = []\n",
    "\n",
    "    for row in np.array(df):\n",
    "        dis = np.linalg.norm(row-predict_data)\n",
    "        distances.append(dis)\n",
    "\n",
    "    weights = 1/np.log(np.array(distances)+1)\n",
    "    weights_sum = np.sum(weights)\n",
    "    weights = weights/weights_sum\n",
    "\n",
    "    result = 0\n",
    "\n",
    "    for i in range(len(distances)):\n",
    "        result += weights[i]*data_35.iloc[i][0]\n",
    "    \n",
    "    return result"
   ]
  },
  {
   "cell_type": "code",
   "execution_count": null,
   "metadata": {},
   "outputs": [],
   "source": [
    "predict_35 = []\n",
    "columns = st_df_test.columns\n",
    "\n",
    "test_set_30 = np.array(st_df_test[columns[:31]])\n",
    "\n",
    "for i in range(len(st_df_test)):\n",
    "    cluster_num = result_GMM[i]\n",
    "    \n",
    "    predict_35.append(predict_w_distance(train_set,test_set_30[i],cluster_num))"
   ]
  },
  {
   "cell_type": "markdown",
   "metadata": {},
   "source": [
    "## 평가"
   ]
  },
  {
   "cell_type": "code",
   "execution_count": null,
   "metadata": {},
   "outputs": [],
   "source": [
    "clst_price = pd.DataFrame()\n",
    "clst_price['clst_num'] = result_GMM\n",
    "clst_price['predict_35'] = predict_35\n",
    "clst_price['real_value'] = st_df_test['09:35'].values.tolist()\n",
    "clst_price['diff'] = clst_price['real_value'] - clst_price['predict_35']\n",
    "clst_price=clst_price[(result_GMM==result_CNN)]\n",
    "\n",
    "print('MAE : ',np.mean(abs(clst_price['diff'])))\n",
    "print('GMM과 CNN에서 겹치는 행의 수 : ',sum(result_GMM==result_CNN))"
   ]
  },
  {
   "cell_type": "code",
   "execution_count": null,
   "metadata": {},
   "outputs": [],
   "source": [
    "st_df_test_orginal=st_df_test_orginal[(result_CNN==result_GMM).values]"
   ]
  },
  {
   "cell_type": "code",
   "execution_count": null,
   "metadata": {},
   "outputs": [],
   "source": [
    "def get_revenue(predict_35, test_set_original):\n",
    "    revenues = []\n",
    "    original_30 = test_set_original['09:30']\n",
    "    original_35 = test_set_original['09:35']\n",
    "    \n",
    "    k=0\n",
    "    for i in range(len(predict_35)):\n",
    "        if predict_35[i] > 1.0:\n",
    "            rev = (original_35 [i]- original_30[i])/original_30[i]\n",
    "            revenues.append(rev*100)\n",
    "            k+=1\n",
    "                        \n",
    "    \n",
    "    print('추천 종목 수 : ',k)\n",
    "    return revenues\n",
    "\n",
    "rev_percent= get_revenue(clst_price['predict_35'].tolist(),st_df_test_orginal)\n",
    "print('예상 수익률 : ',round(sum(rev_percent),4))"
   ]
  },
  {
   "cell_type": "code",
   "execution_count": null,
   "metadata": {},
   "outputs": [],
   "source": [
    "st_df_test['pred_35']=predict_35\n",
    "test_set_2=st_df_test[(result_CNN==result_GMM).values]\n",
    "predicted_stock = test_set_2.loc[st_df_test['pred_35']>1.0]\n",
    "print('추천 종목 : ',predicted_stock.index)"
   ]
  }
 ],
 "metadata": {
  "kernelspec": {
   "display_name": "Python 3",
   "language": "python",
   "name": "python3"
  },
  "language_info": {
   "codemirror_mode": {
    "name": "ipython",
    "version": 3
   },
   "file_extension": ".py",
   "mimetype": "text/x-python",
   "name": "python",
   "nbconvert_exporter": "python",
   "pygments_lexer": "ipython3",
   "version": "3.8.5"
  },
  "toc": {
   "base_numbering": 1,
   "nav_menu": {},
   "number_sections": true,
   "sideBar": true,
   "skip_h1_title": false,
   "title_cell": "Table of Contents",
   "title_sidebar": "Contents",
   "toc_cell": false,
   "toc_position": {},
   "toc_section_display": true,
   "toc_window_display": false
  }
 },
 "nbformat": 4,
 "nbformat_minor": 4
}
